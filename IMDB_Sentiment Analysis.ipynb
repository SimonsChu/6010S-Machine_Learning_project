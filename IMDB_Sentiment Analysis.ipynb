{
 "cells": [
  {
   "cell_type": "code",
   "execution_count": 1,
   "metadata": {},
   "outputs": [
    {
     "name": "stderr",
     "output_type": "stream",
     "text": [
      "Using TensorFlow backend.\n"
     ]
    }
   ],
   "source": [
    "#1.import packages\n",
    "import csv\n",
    "import numpy as np\n",
    "import pickle\n",
    "import itertools\n",
    "import pandas as pd\n",
    "import numpy as np\n",
    "import matplotlib.pyplot as plt\n",
    "\n",
    "\n",
    "from sklearn.metrics import confusion_matrix, classification_report, f1_score\n",
    "from itertools import chain\n",
    "\n",
    "from keras.utils.data_utils import get_file\n",
    "from keras.preprocessing import sequence\n",
    "from keras.models import Sequential\n",
    "from keras.layers import Embedding,Dense, Dropout, Activation,Flatten\n",
    "from keras.layers import LSTM,SimpleRNN\n",
    "from keras.datasets import imdb\n"
   ]
  },
  {
   "cell_type": "code",
   "execution_count": 2,
   "metadata": {},
   "outputs": [],
   "source": [
    "# Get full dataset from the webside\n",
    "path = get_file('imdb_full.pkl',\n",
    "                origin='https://s3.amazonaws.com/text-datasets/imdb_full.pkl')\n",
    "\n",
    "# Split into train/test, and separate features from labels\n",
    "f = open(path, 'rb')\n",
    "(x_train, labels_train), (x_test, labels_test) = pickle.load(f)\n",
    "\n",
    "\n",
    "\n",
    "# Using the Index/word mapping in keras.datasets to get the csv of the train and test dataset\n",
    "\n",
    "#train dataset\n",
    "idx = imdb.get_word_index()\n",
    "idx2word = {v: k for k, v in idx.items()}\n",
    "with open('train.csv', 'w', encoding='utf-8') as f:\n",
    "    writer = csv.writer(f)\n",
    "    \n",
    "    for i in range(0, len(x_train)):\n",
    "        label = labels_train[i]\n",
    "        review = ' '.join([idx2word[o] for o in x_train[i]])\n",
    "        writer.writerow([review, label])\n",
    "\n",
    "#test dataset\n",
    "with open('test.csv', 'w', encoding='utf-8') as f:\n",
    "    writer = csv.writer(f)\n",
    "    \n",
    "    for i in range(0, len(x_test)):\n",
    "        label = labels_test[i]\n",
    "        review = ' '.join([idx2word[o] for o in x_test[i]])\n",
    "        writer.writerow([review, label])"
   ]
  },
  {
   "cell_type": "code",
   "execution_count": 3,
   "metadata": {},
   "outputs": [
    {
     "name": "stdout",
     "output_type": "stream",
     "text": [
      "(25000, 2)\n"
     ]
    },
    {
     "data": {
      "text/html": [
       "<div>\n",
       "<style scoped>\n",
       "    .dataframe tbody tr th:only-of-type {\n",
       "        vertical-align: middle;\n",
       "    }\n",
       "\n",
       "    .dataframe tbody tr th {\n",
       "        vertical-align: top;\n",
       "    }\n",
       "\n",
       "    .dataframe thead th {\n",
       "        text-align: right;\n",
       "    }\n",
       "</style>\n",
       "<table border=\"1\" class=\"dataframe\">\n",
       "  <thead>\n",
       "    <tr style=\"text-align: right;\">\n",
       "      <th></th>\n",
       "      <th>0</th>\n",
       "      <th>1</th>\n",
       "    </tr>\n",
       "  </thead>\n",
       "  <tbody>\n",
       "    <tr>\n",
       "      <th>0</th>\n",
       "      <td>bromwell high is a cartoon comedy it ran at th...</td>\n",
       "      <td>1</td>\n",
       "    </tr>\n",
       "    <tr>\n",
       "      <th>1</th>\n",
       "      <td>homelessness or houselessness as george carlin...</td>\n",
       "      <td>1</td>\n",
       "    </tr>\n",
       "    <tr>\n",
       "      <th>2</th>\n",
       "      <td>brilliant over acting by lesley ann warren bes...</td>\n",
       "      <td>1</td>\n",
       "    </tr>\n",
       "    <tr>\n",
       "      <th>3</th>\n",
       "      <td>this is easily the most underrated film inn th...</td>\n",
       "      <td>1</td>\n",
       "    </tr>\n",
       "    <tr>\n",
       "      <th>4</th>\n",
       "      <td>this is not the typical mel brooks film it was...</td>\n",
       "      <td>1</td>\n",
       "    </tr>\n",
       "    <tr>\n",
       "      <th>...</th>\n",
       "      <td>...</td>\n",
       "      <td>...</td>\n",
       "    </tr>\n",
       "    <tr>\n",
       "      <th>24995</th>\n",
       "      <td>towards the end of the movie i felt it was too...</td>\n",
       "      <td>0</td>\n",
       "    </tr>\n",
       "    <tr>\n",
       "      <th>24996</th>\n",
       "      <td>this is the kind of movie that my enemies cont...</td>\n",
       "      <td>0</td>\n",
       "    </tr>\n",
       "    <tr>\n",
       "      <th>24997</th>\n",
       "      <td>i saw 'descent' last night at the stockholm fi...</td>\n",
       "      <td>0</td>\n",
       "    </tr>\n",
       "    <tr>\n",
       "      <th>24998</th>\n",
       "      <td>some films that you pick up for a pound turn o...</td>\n",
       "      <td>0</td>\n",
       "    </tr>\n",
       "    <tr>\n",
       "      <th>24999</th>\n",
       "      <td>this is one of the dumbest films i've ever see...</td>\n",
       "      <td>0</td>\n",
       "    </tr>\n",
       "  </tbody>\n",
       "</table>\n",
       "<p>25000 rows × 2 columns</p>\n",
       "</div>"
      ],
      "text/plain": [
       "                                                       0  1\n",
       "0      bromwell high is a cartoon comedy it ran at th...  1\n",
       "1      homelessness or houselessness as george carlin...  1\n",
       "2      brilliant over acting by lesley ann warren bes...  1\n",
       "3      this is easily the most underrated film inn th...  1\n",
       "4      this is not the typical mel brooks film it was...  1\n",
       "...                                                  ... ..\n",
       "24995  towards the end of the movie i felt it was too...  0\n",
       "24996  this is the kind of movie that my enemies cont...  0\n",
       "24997  i saw 'descent' last night at the stockholm fi...  0\n",
       "24998  some films that you pick up for a pound turn o...  0\n",
       "24999  this is one of the dumbest films i've ever see...  0\n",
       "\n",
       "[25000 rows x 2 columns]"
      ]
     },
     "execution_count": 3,
     "metadata": {},
     "output_type": "execute_result"
    }
   ],
   "source": [
    "#ouput the train dataset\n",
    "train_data = pd.read_csv('train.csv', header=None)\n",
    "print(train_data.shape)\n",
    "train_data"
   ]
  },
  {
   "cell_type": "code",
   "execution_count": 4,
   "metadata": {},
   "outputs": [
    {
     "name": "stdout",
     "output_type": "stream",
     "text": [
      "(25000, 2)\n"
     ]
    },
    {
     "data": {
      "text/html": [
       "<div>\n",
       "<style scoped>\n",
       "    .dataframe tbody tr th:only-of-type {\n",
       "        vertical-align: middle;\n",
       "    }\n",
       "\n",
       "    .dataframe tbody tr th {\n",
       "        vertical-align: top;\n",
       "    }\n",
       "\n",
       "    .dataframe thead th {\n",
       "        text-align: right;\n",
       "    }\n",
       "</style>\n",
       "<table border=\"1\" class=\"dataframe\">\n",
       "  <thead>\n",
       "    <tr style=\"text-align: right;\">\n",
       "      <th></th>\n",
       "      <th>0</th>\n",
       "      <th>1</th>\n",
       "    </tr>\n",
       "  </thead>\n",
       "  <tbody>\n",
       "    <tr>\n",
       "      <th>0</th>\n",
       "      <td>i went and saw this movie last night after bei...</td>\n",
       "      <td>1</td>\n",
       "    </tr>\n",
       "    <tr>\n",
       "      <th>1</th>\n",
       "      <td>actor turned director bill paxton follows up h...</td>\n",
       "      <td>1</td>\n",
       "    </tr>\n",
       "    <tr>\n",
       "      <th>2</th>\n",
       "      <td>as a recreational golfer with some knowledge o...</td>\n",
       "      <td>1</td>\n",
       "    </tr>\n",
       "    <tr>\n",
       "      <th>3</th>\n",
       "      <td>i saw this film in a sneak preview and it is d...</td>\n",
       "      <td>1</td>\n",
       "    </tr>\n",
       "    <tr>\n",
       "      <th>4</th>\n",
       "      <td>bill paxton has taken the true story of the 19...</td>\n",
       "      <td>1</td>\n",
       "    </tr>\n",
       "    <tr>\n",
       "      <th>...</th>\n",
       "      <td>...</td>\n",
       "      <td>...</td>\n",
       "    </tr>\n",
       "    <tr>\n",
       "      <th>24995</th>\n",
       "      <td>i occasionally let my kids watch this garbage ...</td>\n",
       "      <td>0</td>\n",
       "    </tr>\n",
       "    <tr>\n",
       "      <th>24996</th>\n",
       "      <td>when all we have anymore is pretty much realit...</td>\n",
       "      <td>0</td>\n",
       "    </tr>\n",
       "    <tr>\n",
       "      <th>24997</th>\n",
       "      <td>the basic genre is a thriller intercut with an...</td>\n",
       "      <td>0</td>\n",
       "    </tr>\n",
       "    <tr>\n",
       "      <th>24998</th>\n",
       "      <td>four things intrigued me as to this film first...</td>\n",
       "      <td>0</td>\n",
       "    </tr>\n",
       "    <tr>\n",
       "      <th>24999</th>\n",
       "      <td>david comments nearby are exceptionally well w...</td>\n",
       "      <td>0</td>\n",
       "    </tr>\n",
       "  </tbody>\n",
       "</table>\n",
       "<p>25000 rows × 2 columns</p>\n",
       "</div>"
      ],
      "text/plain": [
       "                                                       0  1\n",
       "0      i went and saw this movie last night after bei...  1\n",
       "1      actor turned director bill paxton follows up h...  1\n",
       "2      as a recreational golfer with some knowledge o...  1\n",
       "3      i saw this film in a sneak preview and it is d...  1\n",
       "4      bill paxton has taken the true story of the 19...  1\n",
       "...                                                  ... ..\n",
       "24995  i occasionally let my kids watch this garbage ...  0\n",
       "24996  when all we have anymore is pretty much realit...  0\n",
       "24997  the basic genre is a thriller intercut with an...  0\n",
       "24998  four things intrigued me as to this film first...  0\n",
       "24999  david comments nearby are exceptionally well w...  0\n",
       "\n",
       "[25000 rows x 2 columns]"
      ]
     },
     "execution_count": 4,
     "metadata": {},
     "output_type": "execute_result"
    }
   ],
   "source": [
    "#ouput the train dataset\n",
    "test_data = pd.read_csv('test.csv', header=None)\n",
    "print(test_data.shape)\n",
    "test_data"
   ]
  },
  {
   "cell_type": "markdown",
   "metadata": {},
   "source": [
    "### The train and test dataset provide a set of 25,000 highly polar movie reviews with tag 1: positive reviews; tag 0: negative reviews"
   ]
  },
  {
   "cell_type": "code",
   "execution_count": 11,
   "metadata": {},
   "outputs": [],
   "source": [
    "#load the dataset and save the top 5000 words \n",
    "(x_train, y_train), (x_test, y_test) = imdb.load_data(num_words=7000)"
   ]
  },
  {
   "cell_type": "markdown",
   "metadata": {},
   "source": [
    "# Model1:Multi-Layer Perceptron(MLP)"
   ]
  },
  {
   "cell_type": "code",
   "execution_count": 17,
   "metadata": {},
   "outputs": [
    {
     "name": "stdout",
     "output_type": "stream",
     "text": [
      "Train data size: (25000, 400)\n",
      "Test data size: (25000, 400)\n",
      "Build the MLP model...\n",
      "Model: \"sequential_5\"\n",
      "_________________________________________________________________\n",
      "Layer (type)                 Output Shape              Param #   \n",
      "=================================================================\n",
      "embedding_5 (Embedding)      (None, 400, 50)           350000    \n",
      "_________________________________________________________________\n",
      "dropout_9 (Dropout)          (None, 400, 50)           0         \n",
      "_________________________________________________________________\n",
      "flatten_5 (Flatten)          (None, 20000)             0         \n",
      "_________________________________________________________________\n",
      "dense_9 (Dense)              (None, 256)               5120256   \n",
      "_________________________________________________________________\n",
      "dropout_10 (Dropout)         (None, 256)               0         \n",
      "_________________________________________________________________\n",
      "dense_10 (Dense)             (None, 1)                 257       \n",
      "=================================================================\n",
      "Total params: 5,470,513\n",
      "Trainable params: 5,470,513\n",
      "Non-trainable params: 0\n",
      "_________________________________________________________________\n"
     ]
    }
   ],
   "source": [
    "#Model 3: MLP\n",
    "\n",
    "#data preprocessing\n",
    "# Pad sequences: Convert the sequence into a new sequence of the same length with 400.\n",
    "x_train = sequence.pad_sequences(x_train, maxlen=400)\n",
    "x_test = sequence.pad_sequences(x_test, maxlen=400)\n",
    "print('Train data size:', x_train.shape)\n",
    "print('Test data size:', x_test.shape)\n",
    "\n",
    "#set parameters \n",
    "max_features = 7000\n",
    "embedding_size = 50\n",
    "maxlen = 400\n",
    "\n",
    "\n",
    "batch_size = 64\n",
    "epochs = 4\n",
    "\n",
    "\n",
    "print('Build the MLP model...')\n",
    "model1 = Sequential()\n",
    "model1.add(Embedding(max_features, \n",
    "                    embedding_size, \n",
    "                    input_length=maxlen))\n",
    "model1.add(Dropout(0.35))\n",
    "\n",
    "model1.add(Flatten())\n",
    "\n",
    "model1.add(Dense(units=256, activation='relu'))\n",
    "model1.add(Dropout(0.35))\n",
    "\n",
    "model1.add(Dense(units=1,activation='sigmoid'))\n",
    "           \n",
    "model1.compile(loss='binary_crossentropy',\n",
    "              optimizer='adam',\n",
    "              metrics=['accuracy'])\n",
    "\n",
    "\n",
    "\n",
    "model1.summary()"
   ]
  },
  {
   "cell_type": "code",
   "execution_count": 18,
   "metadata": {},
   "outputs": [
    {
     "name": "stderr",
     "output_type": "stream",
     "text": [
      "D:\\ProgramData\\Anaconda3\\lib\\site-packages\\tensorflow_core\\python\\framework\\indexed_slices.py:424: UserWarning: Converting sparse IndexedSlices to a dense Tensor of unknown shape. This may consume a large amount of memory.\n",
      "  \"Converting sparse IndexedSlices to a dense Tensor of unknown shape. \"\n"
     ]
    },
    {
     "name": "stdout",
     "output_type": "stream",
     "text": [
      "Train on 25000 samples, validate on 25000 samples\n",
      "Epoch 1/4\n",
      "25000/25000 [==============================] - 66s 3ms/step - loss: 0.4372 - accuracy: 0.7749 - val_loss: 0.2980 - val_accuracy: 0.8747\n",
      "Epoch 2/4\n",
      "25000/25000 [==============================] - 69s 3ms/step - loss: 0.1542 - accuracy: 0.9426 - val_loss: 0.3208 - val_accuracy: 0.8705\n",
      "Epoch 3/4\n",
      "25000/25000 [==============================] - 65s 3ms/step - loss: 0.0573 - accuracy: 0.9796 - val_loss: 0.4512 - val_accuracy: 0.8606\n",
      "Epoch 4/4\n",
      "25000/25000 [==============================] - 63s 3ms/step - loss: 0.0329 - accuracy: 0.9876 - val_loss: 0.5279 - val_accuracy: 0.8572\n"
     ]
    }
   ],
   "source": [
    "hist1=model1.fit(x_train, y_train,\n",
    "          batch_size=batch_size,\n",
    "          epochs=epochs,\n",
    "          validation_data=(x_test, y_test))"
   ]
  },
  {
   "cell_type": "code",
   "execution_count": 29,
   "metadata": {},
   "outputs": [
    {
     "name": "stdout",
     "output_type": "stream",
     "text": [
      "25000/25000 [==============================] - 7s 270us/step\n",
      "Test accuracy: 0.857200026512146\n",
      "Test score (loss): 0.5279454268455506\n",
      "\n",
      "F1 Score (Macro): 0.8570740962283454\n",
      "F1 Score (Micro): 0.8572\n"
     ]
    },
    {
     "data": {
      "image/png": "[encoded data removed]",
      "text/plain": [
       "<Figure size 432x288 with 1 Axes>"
      ]
     },
     "metadata": {
      "needs_background": "light"
     },
     "output_type": "display_data"
    },
    {
     "data": {
      "text/plain": [
       "<Figure size 432x288 with 0 Axes>"
      ]
     },
     "metadata": {},
     "output_type": "display_data"
    },
    {
     "data": {
      "image/png": "[encoded data removed]",
      "text/plain": [
       "<Figure size 432x288 with 2 Axes>"
      ]
     },
     "metadata": {
      "needs_background": "light"
     },
     "output_type": "display_data"
    }
   ],
   "source": [
    "# Evaluate MLP model\n",
    "\n",
    "acc=hist1.history['accuracy']\n",
    "val_acc=hist1.history['val_accuracy']\n",
    "loss=hist1.history['loss']\n",
    "val_loss=hist1.history['val_loss']\n",
    "epochs=range(len(acc))\n",
    "plt.plot(epochs,acc,'b',label='Training acc')\n",
    "plt.plot(epochs,val_acc,'r',label='Validation acc')\n",
    "plt.title(\"Training and validation accuracy for MLP\")\n",
    "plt.legend()\n",
    "plt.figure()\n",
    "\n",
    "score, acc = model1.evaluate(x_test, y_test, batch_size=batch_size)\n",
    "preds = model1.predict_classes(x_test, batch_size=batch_size)\n",
    "\n",
    "# Confusion Matrix\n",
    "cm = confusion_matrix(y_test, preds)\n",
    "def plot_confusion_matrix(cm, classes, normalize=False, title='LSTM Confusion matrix', cmap=plt.cm.Blues):\n",
    "    \"\"\"\n",
    "    This function prints and plots the confusion matrix.\n",
    "    Normalization can be applied by setting `normalize=True`.\n",
    "    \"\"\"\n",
    "    plt.figure()\n",
    "    plt.imshow(cm, interpolation='nearest', cmap=cmap)\n",
    "    plt.title(title)\n",
    "    plt.colorbar()\n",
    "    tick_marks = np.arange(len(classes))\n",
    "    plt.xticks(tick_marks, classes, rotation=45)\n",
    "    plt.ylim(-0.5,1.5)\n",
    "    plt.yticks(tick_marks, classes)\n",
    "\n",
    "    if normalize:\n",
    "        cm = cm.astype('float') / cm.sum(axis=1)[:, np.newaxis]\n",
    "    #print(cm)\n",
    "    thresh = cm.max() / 2.\n",
    "    for i, j in itertools.product(range(cm.shape[0]), range(cm.shape[1])):\n",
    "        plt.text(j, i, cm[i, j],verticalalignment='center', horizontalalignment=\"center\",color=\"white\" if cm[i, j] > thresh else \"black\")\n",
    "\n",
    "    plt.tight_layout()\n",
    "    plt.ylabel('True label')\n",
    "    plt.xlabel('Predicted label')\n",
    "    \n",
    "#F1-Score\n",
    "f1_macro = f1_score(y_test, preds, average='macro') \n",
    "f1_micro = f1_score(y_test, preds, average='micro')\n",
    "\n",
    "print('Test accuracy:', acc)\n",
    "print('Test score (loss):', score)\n",
    "print('')\n",
    "print('F1 Score (Macro):', f1_macro)\n",
    "print('F1 Score (Micro):', f1_micro)\n",
    "\n",
    "plot_confusion_matrix(cm, {'negative': 0, 'positive': 1})\n",
    "\n"
   ]
  },
  {
   "cell_type": "markdown",
   "metadata": {},
   "source": [
    "# Model2: Recurrent  Neural Network(RNN)"
   ]
  },
  {
   "cell_type": "code",
   "execution_count": 20,
   "metadata": {},
   "outputs": [
    {
     "name": "stdout",
     "output_type": "stream",
     "text": [
      "Train data size: (25000, 400)\n",
      "Test data size: (25000, 400)\n",
      "Build the RNN model...\n",
      "Model: \"sequential_6\"\n",
      "_________________________________________________________________\n",
      "Layer (type)                 Output Shape              Param #   \n",
      "=================================================================\n",
      "embedding_6 (Embedding)      (None, 400, 50)           350000    \n",
      "_________________________________________________________________\n",
      "dropout_11 (Dropout)         (None, 400, 50)           0         \n",
      "_________________________________________________________________\n",
      "simple_rnn_1 (SimpleRNN)     (None, 16)                1072      \n",
      "_________________________________________________________________\n",
      "dense_11 (Dense)             (None, 256)               4352      \n",
      "_________________________________________________________________\n",
      "dropout_12 (Dropout)         (None, 256)               0         \n",
      "_________________________________________________________________\n",
      "dense_12 (Dense)             (None, 1)                 257       \n",
      "=================================================================\n",
      "Total params: 355,681\n",
      "Trainable params: 355,681\n",
      "Non-trainable params: 0\n",
      "_________________________________________________________________\n"
     ]
    }
   ],
   "source": [
    "#Model 2: RNN\n",
    "\n",
    "#data preprocessing\n",
    "# Pad sequences: Convert the sequence into a new sequence of the same length with 400.\n",
    "x_train = sequence.pad_sequences(x_train, maxlen=400)\n",
    "x_test = sequence.pad_sequences(x_test, maxlen=400)\n",
    "print('Train data size:', x_train.shape)\n",
    "print('Test data size:', x_test.shape)\n",
    "\n",
    "#set parameters \n",
    "max_features = 7000\n",
    "embedding_size = 50\n",
    "maxlen = 400\n",
    "\n",
    "batch_size = 64\n",
    "epochs = 4\n",
    "\n",
    "\n",
    "\n",
    "print('Build the RNN model...')\n",
    "model2 = Sequential()\n",
    "\n",
    "# Embedding layer\n",
    "model2.add(Embedding(max_features, \n",
    "                    embedding_size, \n",
    "                    input_length=maxlen))\n",
    "model2.add(Dropout(0.35))\n",
    "\n",
    "model2.add(SimpleRNN(units=16))\n",
    "\n",
    "model2.add(Dense(units=256,activation='relu'))\n",
    "model2.add(Dropout(0.35))\n",
    "model2.add(Dense(units=1,activation='sigmoid'))\n",
    "\n",
    "model2.compile(loss='binary_crossentropy',\n",
    "              optimizer='adam',\n",
    "              metrics=['accuracy'])\n",
    "\n",
    "model2.summary()"
   ]
  },
  {
   "cell_type": "code",
   "execution_count": 21,
   "metadata": {},
   "outputs": [
    {
     "name": "stderr",
     "output_type": "stream",
     "text": [
      "D:\\ProgramData\\Anaconda3\\lib\\site-packages\\tensorflow_core\\python\\framework\\indexed_slices.py:424: UserWarning: Converting sparse IndexedSlices to a dense Tensor of unknown shape. This may consume a large amount of memory.\n",
      "  \"Converting sparse IndexedSlices to a dense Tensor of unknown shape. \"\n"
     ]
    },
    {
     "name": "stdout",
     "output_type": "stream",
     "text": [
      "Train on 25000 samples, validate on 25000 samples\n",
      "Epoch 1/4\n",
      "25000/25000 [==============================] - 109s 4ms/step - loss: 0.6381 - accuracy: 0.6053 - val_loss: 0.4441 - val_accuracy: 0.8001\n",
      "Epoch 2/4\n",
      "25000/25000 [==============================] - 107s 4ms/step - loss: 0.3738 - accuracy: 0.8371 - val_loss: 0.4143 - val_accuracy: 0.8255\n",
      "Epoch 3/4\n",
      "25000/25000 [==============================] - 112s 4ms/step - loss: 0.2379 - accuracy: 0.9072 - val_loss: 0.3996 - val_accuracy: 0.8400\n",
      "Epoch 4/4\n",
      "25000/25000 [==============================] - 114s 5ms/step - loss: 0.1518 - accuracy: 0.9446 - val_loss: 0.4726 - val_accuracy: 0.8434\n"
     ]
    }
   ],
   "source": [
    "hist2=model2.fit(x_train, y_train,\n",
    "         batch_size=batch_size,\n",
    "         epochs=epochs,\n",
    "         validation_data=(x_test, y_test),\n",
    "         verbose=1)"
   ]
  },
  {
   "cell_type": "code",
   "execution_count": 28,
   "metadata": {},
   "outputs": [
    {
     "name": "stdout",
     "output_type": "stream",
     "text": [
      "25000/25000 [==============================] - 17s 694us/step\n",
      "Test accuracy: 0.8434399962425232\n",
      "Test score (loss): 0.4725688356590271\n",
      "\n",
      "F1 Score (Macro): 0.8434398787598422\n",
      "F1 Score (Micro): 0.8434400000000001\n"
     ]
    },
    {
     "data": {
      "image/png": "[encoded data removed]",
      "text/plain": [
       "<Figure size 432x288 with 1 Axes>"
      ]
     },
     "metadata": {
      "needs_background": "light"
     },
     "output_type": "display_data"
    },
    {
     "data": {
      "text/plain": [
       "<Figure size 432x288 with 0 Axes>"
      ]
     },
     "metadata": {},
     "output_type": "display_data"
    },
    {
     "data": {
      "image/png": "[encoded data removed]",
      "text/plain": [
       "<Figure size 432x288 with 2 Axes>"
      ]
     },
     "metadata": {
      "needs_background": "light"
     },
     "output_type": "display_data"
    }
   ],
   "source": [
    "# Evaluate RNN model\n",
    "acc=hist2.history['accuracy']\n",
    "val_acc=hist2.history['val_accuracy']\n",
    "loss=hist2.history['loss']\n",
    "val_loss=hist2.history['val_loss']\n",
    "epochs=range(len(acc))\n",
    "plt.plot(epochs,acc,'b',label='Training acc')\n",
    "plt.plot(epochs,val_acc,'r',label='Validation acc')\n",
    "plt.title(\"Training and validation accuracy for RNN\")\n",
    "plt.legend()\n",
    "plt.figure()\n",
    "\n",
    "score, acc = model2.evaluate(x_test, y_test, batch_size=batch_size)\n",
    "preds = model2.predict_classes(x_test, batch_size=batch_size)\n",
    "\n",
    "# Confusion Matrix\n",
    "cm = confusion_matrix(y_test, preds)\n",
    "\n",
    "#F1-Score\n",
    "f1_macro = f1_score(y_test, preds, average='macro') \n",
    "f1_micro = f1_score(y_test, preds, average='micro')\n",
    "\n",
    "\n",
    "print('Test accuracy:', acc)\n",
    "print('Test score (loss):', score)\n",
    "print('')\n",
    "print('F1 Score (Macro):', f1_macro)\n",
    "print('F1 Score (Micro):', f1_micro)\n",
    "\n",
    "plot_confusion_matrix(cm, {'negative': 0, 'positive': 1})"
   ]
  },
  {
   "cell_type": "markdown",
   "metadata": {},
   "source": [
    "# Model3:Long Short-Term Memory(LSTM)"
   ]
  },
  {
   "cell_type": "code",
   "execution_count": 23,
   "metadata": {},
   "outputs": [
    {
     "name": "stdout",
     "output_type": "stream",
     "text": [
      "Train data size: (25000, 400)\n",
      "Test data size: (25000, 400)\n",
      "Build the LSTM model...\n",
      "Model: \"sequential_7\"\n",
      "_________________________________________________________________\n",
      "Layer (type)                 Output Shape              Param #   \n",
      "=================================================================\n",
      "embedding_7 (Embedding)      (None, 400, 50)           350000    \n",
      "_________________________________________________________________\n",
      "dropout_13 (Dropout)         (None, 400, 50)           0         \n",
      "_________________________________________________________________\n",
      "lstm_1 (LSTM)                (None, 32)                10624     \n",
      "_________________________________________________________________\n",
      "dense_13 (Dense)             (None, 256)               8448      \n",
      "_________________________________________________________________\n",
      "dropout_14 (Dropout)         (None, 256)               0         \n",
      "_________________________________________________________________\n",
      "dense_14 (Dense)             (None, 1)                 257       \n",
      "=================================================================\n",
      "Total params: 369,329\n",
      "Trainable params: 369,329\n",
      "Non-trainable params: 0\n",
      "_________________________________________________________________\n"
     ]
    }
   ],
   "source": [
    "#Model 3: LSTM\n",
    "\n",
    "#data preprocessing\n",
    "# Pad sequences: Convert the sequence into a new sequence of the same length with 400.\n",
    "x_train = sequence.pad_sequences(x_train, maxlen=400)\n",
    "x_test = sequence.pad_sequences(x_test, maxlen=400)\n",
    "print('Train data size:', x_train.shape)\n",
    "print('Test data size:', x_test.shape)\n",
    "\n",
    "#set parameters \n",
    "max_features = 7000\n",
    "embedding_size = 50\n",
    "maxlen = 400\n",
    "\n",
    "batch_size = 64\n",
    "epochs = 4\n",
    "\n",
    "\n",
    "print('Build the LSTM model...')\n",
    "model3 = Sequential()\n",
    "model3.add(Embedding(max_features, \n",
    "                    embedding_size, \n",
    "                    input_length=maxlen))\n",
    "model3.add(Dropout(0.35))\n",
    "\n",
    "model3.add(LSTM(32))\n",
    "\n",
    "model3.add(Dense(units=256, activation='relu'))\n",
    "model3.add(Dropout(0.35))\n",
    "\n",
    "model3.add(Dense(units=1,activation='sigmoid'))\n",
    "           \n",
    "model3.compile(loss='binary_crossentropy',\n",
    "              optimizer='adam',\n",
    "              metrics=['accuracy'])\n",
    "\n",
    "model3.summary()"
   ]
  },
  {
   "cell_type": "code",
   "execution_count": 24,
   "metadata": {},
   "outputs": [
    {
     "name": "stderr",
     "output_type": "stream",
     "text": [
      "D:\\ProgramData\\Anaconda3\\lib\\site-packages\\tensorflow_core\\python\\framework\\indexed_slices.py:424: UserWarning: Converting sparse IndexedSlices to a dense Tensor of unknown shape. This may consume a large amount of memory.\n",
      "  \"Converting sparse IndexedSlices to a dense Tensor of unknown shape. \"\n"
     ]
    },
    {
     "name": "stdout",
     "output_type": "stream",
     "text": [
      "Train on 25000 samples, validate on 25000 samples\n",
      "Epoch 1/4\n",
      "25000/25000 [==============================] - 193s 8ms/step - loss: 0.4045 - accuracy: 0.8090 - val_loss: 0.3713 - val_accuracy: 0.8514\n",
      "Epoch 2/4\n",
      "25000/25000 [==============================] - 186s 7ms/step - loss: 0.2432 - accuracy: 0.9032 - val_loss: 0.3238 - val_accuracy: 0.8680\n",
      "Epoch 3/4\n",
      "25000/25000 [==============================] - 185s 7ms/step - loss: 0.1932 - accuracy: 0.9280 - val_loss: 0.3363 - val_accuracy: 0.8772\n",
      "Epoch 4/4\n",
      "25000/25000 [==============================] - 187s 7ms/step - loss: 0.1548 - accuracy: 0.9416 - val_loss: 0.3379 - val_accuracy: 0.8696\n"
     ]
    }
   ],
   "source": [
    "#train model\n",
    "hist3=model3.fit(x_train, y_train,\n",
    "          batch_size=batch_size,\n",
    "          epochs=epochs,\n",
    "          validation_data=(x_test, y_test))"
   ]
  },
  {
   "cell_type": "code",
   "execution_count": 30,
   "metadata": {
    "scrolled": false
   },
   "outputs": [
    {
     "name": "stdout",
     "output_type": "stream",
     "text": [
      "25000/25000 [==============================] - 41s 2ms/step\n",
      "Test accuracy: 0.8695600032806396\n",
      "Test score (loss): 0.33790928402900694\n",
      "\n",
      "F1 Score (Macro): 0.8693888419139978\n",
      "F1 Score (Micro): 0.86956\n",
      "\n",
      "The LSTM confusion matrix is:\n"
     ]
    },
    {
     "data": {
      "image/png": "[encoded data removed]",
      "text/plain": [
       "<Figure size 432x288 with 1 Axes>"
      ]
     },
     "metadata": {
      "needs_background": "light"
     },
     "output_type": "display_data"
    },
    {
     "data": {
      "text/plain": [
       "<Figure size 432x288 with 0 Axes>"
      ]
     },
     "metadata": {},
     "output_type": "display_data"
    },
    {
     "data": {
      "image/png": "[encoded data removed]",
      "text/plain": [
       "<Figure size 432x288 with 2 Axes>"
      ]
     },
     "metadata": {
      "needs_background": "light"
     },
     "output_type": "display_data"
    }
   ],
   "source": [
    "# Evaluate LSTM model\n",
    "acc=hist3.history['accuracy']\n",
    "val_acc=hist3.history['val_accuracy']\n",
    "loss=hist3.history['loss']\n",
    "val_loss=hist3.history['val_loss']\n",
    "epochs=range(len(acc))\n",
    "plt.plot(epochs,acc,'b',label='Training acc')\n",
    "plt.plot(epochs,val_acc,'r',label='Validation acc')\n",
    "plt.title(\"Training and validation accuracy for LSTM\")\n",
    "plt.legend()\n",
    "plt.figure()\n",
    "\n",
    "score, acc = model3.evaluate(x_test, y_test, batch_size=batch_size)\n",
    "preds = model3.predict_classes(x_test, batch_size=batch_size)\n",
    "\n",
    "# Confusion Matrix\n",
    "cm = confusion_matrix(y_test, preds)\n",
    "\n",
    "#F1-Score\n",
    "f1_macro = f1_score(y_test, preds, average='macro') \n",
    "f1_micro = f1_score(y_test, preds, average='micro')\n",
    "\n",
    "\n",
    "print('Test accuracy:', acc)\n",
    "print('Test score (loss):', score)\n",
    "print('')\n",
    "print('F1 Score (Macro):', f1_macro)\n",
    "print('F1 Score (Micro):', f1_micro)\n",
    "print('')\n",
    "print('The LSTM confusion matrix is:')\n",
    "plot_confusion_matrix(cm, {'negative': 0, 'positive': 1})"
   ]
  },
  {
   "cell_type": "code",
   "execution_count": 31,
   "metadata": {},
   "outputs": [],
   "source": [
    "# Save the model weights\n",
    "model1.save('MLP_model.h5')\n",
    "model1.save_weights('MLP_weights.h5')\n",
    "\n",
    "model2.save('RNN_model.h5')\n",
    "model2.save_weights('RNN_weights.h5')\n",
    "\n",
    "model3.save('LSTM_model.h5')\n",
    "model3.save_weights('LSTM_weights.h5')"
   ]
  },
  {
   "cell_type": "code",
   "execution_count": null,
   "metadata": {},
   "outputs": [],
   "source": []
  },
  {
   "cell_type": "code",
   "execution_count": null,
   "metadata": {},
   "outputs": [],
   "source": []
  }
 ],
 "metadata": {
  "kernelspec": {
   "display_name": "Python 3",
   "language": "python",
   "name": "python3"
  },
  "language_info": {
   "codemirror_mode": {
    "name": "ipython",
    "version": 3
   },
   "file_extension": ".py",
   "mimetype": "text/x-python",
   "name": "python",
   "nbconvert_exporter": "python",
   "pygments_lexer": "ipython3",
   "version": "3.7.3"
  }
 },
 "nbformat": 4,
 "nbformat_minor": 2
}
